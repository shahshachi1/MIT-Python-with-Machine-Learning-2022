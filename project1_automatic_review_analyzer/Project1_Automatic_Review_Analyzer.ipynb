{
  "nbformat": 4,
  "nbformat_minor": 0,
  "metadata": {
    "colab": {
      "name": "Project1_Automatic_Review_Analyzer.ipynb",
      "version": "0.3.2",
      "provenance": [],
      "collapsed_sections": [],
      "include_colab_link": true
    },
    "kernelspec": {
      "name": "python3",
      "display_name": "Python 3"
    },
    "accelerator": "GPU"
  },
  "cells": [
    {
      "cell_type": "markdown",
      "metadata": {
        "id": "view-in-github",
        "colab_type": "text"
      },
      "source": [
        "<a href=\"https://colab.research.google.com/github/Data-Science-and-Data-Analytics-Courses/MITx---Machine-Learning-with-Python-From-Linear-Models-to-Deep-Learning-Jun-11-2019/blob/master/Unit%201%20Linear%20Classifiers%20and%20Generalizations%20(2%20weeks)/Project%201%3A%20Automatic%20Review%20Analyzer/Project1_Automatic_Review_Analyzer.ipynb\" target=\"_parent\"><img src=\"https://colab.research.google.com/assets/colab-badge.svg\" alt=\"Open In Colab\"/></a>"
      ]
    },
    {
      "cell_type": "markdown",
      "metadata": {
        "id": "WI45ce2OcpDu",
        "colab_type": "text"
      },
      "source": [
        "# Project 1: Automatic Review Analyzer\n",
        "\n",
        "---\n",
        "\n"
      ]
    },
    {
      "cell_type": "markdown",
      "metadata": {
        "id": "fRrOetKsg-RC",
        "colab_type": "text"
      },
      "source": [
        "## Packages and libraries"
      ]
    },
    {
      "cell_type": "code",
      "metadata": {
        "id": "nPcqYdOIxzAU",
        "colab_type": "code",
        "outputId": "81482843-dac8-48d5-b3ed-fb05b4f0fdbe",
        "colab": {
          "base_uri": "https://localhost:8080/",
          "height": 119
        }
      },
      "source": [
        "import sys\n",
        "\n",
        "url = \"https://github.com/Data-Science-and-Data-Analytics-Courses/Notebook-Library\"\n",
        "\n",
        "!git clone \"{url}\" \"/nblib\"\n",
        "%run \"/nblib/.Importable.ipynb\"\n",
        "sys.path.append(\"/\")"
      ],
      "execution_count": 1,
      "outputs": [
        {
          "output_type": "stream",
          "text": [
            "Cloning into '/nblib'...\n",
            "remote: Enumerating objects: 26, done.\u001b[K\n",
            "remote: Counting objects: 100% (26/26), done.\u001b[K\n",
            "remote: Compressing objects: 100% (23/23), done.\u001b[K\n",
            "remote: Total 26 (delta 12), reused 7 (delta 2), pack-reused 0\u001b[K\n",
            "Unpacking objects: 100% (26/26), done.\n"
          ],
          "name": "stdout"
        },
        {
          "output_type": "display_data",
          "data": {
            "text/html": [
              "\n",
              "<style type='text/css'>\n",
              ".hll { background-color: #ffffcc }\n",
              ".c { color: #408080; font-style: italic } /* Comment */\n",
              ".err { border: 1px solid #FF0000 } /* Error */\n",
              ".k { color: #008000; font-weight: bold } /* Keyword */\n",
              ".o { color: #666666 } /* Operator */\n",
              ".ch { color: #408080; font-style: italic } /* Comment.Hashbang */\n",
              ".cm { color: #408080; font-style: italic } /* Comment.Multiline */\n",
              ".cp { color: #BC7A00 } /* Comment.Preproc */\n",
              ".cpf { color: #408080; font-style: italic } /* Comment.PreprocFile */\n",
              ".c1 { color: #408080; font-style: italic } /* Comment.Single */\n",
              ".cs { color: #408080; font-style: italic } /* Comment.Special */\n",
              ".gd { color: #A00000 } /* Generic.Deleted */\n",
              ".ge { font-style: italic } /* Generic.Emph */\n",
              ".gr { color: #FF0000 } /* Generic.Error */\n",
              ".gh { color: #000080; font-weight: bold } /* Generic.Heading */\n",
              ".gi { color: #00A000 } /* Generic.Inserted */\n",
              ".go { color: #888888 } /* Generic.Output */\n",
              ".gp { color: #000080; font-weight: bold } /* Generic.Prompt */\n",
              ".gs { font-weight: bold } /* Generic.Strong */\n",
              ".gu { color: #800080; font-weight: bold } /* Generic.Subheading */\n",
              ".gt { color: #0044DD } /* Generic.Traceback */\n",
              ".kc { color: #008000; font-weight: bold } /* Keyword.Constant */\n",
              ".kd { color: #008000; font-weight: bold } /* Keyword.Declaration */\n",
              ".kn { color: #008000; font-weight: bold } /* Keyword.Namespace */\n",
              ".kp { color: #008000 } /* Keyword.Pseudo */\n",
              ".kr { color: #008000; font-weight: bold } /* Keyword.Reserved */\n",
              ".kt { color: #B00040 } /* Keyword.Type */\n",
              ".m { color: #666666 } /* Literal.Number */\n",
              ".s { color: #BA2121 } /* Literal.String */\n",
              ".na { color: #7D9029 } /* Name.Attribute */\n",
              ".nb { color: #008000 } /* Name.Builtin */\n",
              ".nc { color: #0000FF; font-weight: bold } /* Name.Class */\n",
              ".no { color: #880000 } /* Name.Constant */\n",
              ".nd { color: #AA22FF } /* Name.Decorator */\n",
              ".ni { color: #999999; font-weight: bold } /* Name.Entity */\n",
              ".ne { color: #D2413A; font-weight: bold } /* Name.Exception */\n",
              ".nf { color: #0000FF } /* Name.Function */\n",
              ".nl { color: #A0A000 } /* Name.Label */\n",
              ".nn { color: #0000FF; font-weight: bold } /* Name.Namespace */\n",
              ".nt { color: #008000; font-weight: bold } /* Name.Tag */\n",
              ".nv { color: #19177C } /* Name.Variable */\n",
              ".ow { color: #AA22FF; font-weight: bold } /* Operator.Word */\n",
              ".w { color: #bbbbbb } /* Text.Whitespace */\n",
              ".mb { color: #666666 } /* Literal.Number.Bin */\n",
              ".mf { color: #666666 } /* Literal.Number.Float */\n",
              ".mh { color: #666666 } /* Literal.Number.Hex */\n",
              ".mi { color: #666666 } /* Literal.Number.Integer */\n",
              ".mo { color: #666666 } /* Literal.Number.Oct */\n",
              ".sb { color: #BA2121 } /* Literal.String.Backtick */\n",
              ".sc { color: #BA2121 } /* Literal.String.Char */\n",
              ".sd { color: #BA2121; font-style: italic } /* Literal.String.Doc */\n",
              ".s2 { color: #BA2121 } /* Literal.String.Double */\n",
              ".se { color: #BB6622; font-weight: bold } /* Literal.String.Escape */\n",
              ".sh { color: #BA2121 } /* Literal.String.Heredoc */\n",
              ".si { color: #BB6688; font-weight: bold } /* Literal.String.Interpol */\n",
              ".sx { color: #008000 } /* Literal.String.Other */\n",
              ".sr { color: #BB6688 } /* Literal.String.Regex */\n",
              ".s1 { color: #BA2121 } /* Literal.String.Single */\n",
              ".ss { color: #19177C } /* Literal.String.Symbol */\n",
              ".bp { color: #008000 } /* Name.Builtin.Pseudo */\n",
              ".vc { color: #19177C } /* Name.Variable.Class */\n",
              ".vg { color: #19177C } /* Name.Variable.Global */\n",
              ".vi { color: #19177C } /* Name.Variable.Instance */\n",
              ".il { color: #666666 } /* Literal.Number.Integer.Long */\n",
              "</style>\n"
            ],
            "text/plain": [
              "<IPython.core.display.HTML object>"
            ]
          },
          "metadata": {
            "tags": []
          }
        }
      ]
    },
    {
      "cell_type": "code",
      "metadata": {
        "colab_type": "code",
        "id": "Egs1NStV-d23",
        "outputId": "270e2eb9-e768-4d83-ce27-5a2eaafee690",
        "colab": {
          "base_uri": "https://localhost:8080/",
          "height": 153
        }
      },
      "source": [
        "from google.colab import drive\n",
        "from nblib import Git\n",
        "\n",
        "URL = \"https://github.com/Data-Science-and-Data-Analytics-Courses/MITx---Machine-Learning-with-Python-From-Linear-Models-to-Deep-Learning-Jun-11-2019\"\n",
        "nbdir_rel = \"Unit 1 Linear Classifiers and Generalizations (2 weeks)/Project 1: Automatic Review Analyzer/\"\n",
        "\n",
        "REPO = Git.clone(URL)\n",
        "NBDIR = REPO/nbdir_rel\n",
        "os.chdir(NBDIR)"
      ],
      "execution_count": 2,
      "outputs": [
        {
          "output_type": "stream",
          "text": [
            "importing Jupyter notebook from /nblib/Git.ipynb\n",
            "Cloning into '/content/MITx---Machine-Learning-with-Python-From-Linear-Models-to-Deep-Learning-Jun-11-2019'...\n",
            "remote: Enumerating objects: 118, done.\u001b[K\n",
            "remote: Counting objects: 100% (118/118), done.\u001b[K\n",
            "remote: Compressing objects: 100% (118/118), done.\u001b[K\n",
            "remote: Total 267 (delta 78), reused 0 (delta 0), pack-reused 149\u001b[K\n",
            "Receiving objects: 100% (267/267), 1.34 MiB | 11.42 MiB/s, done.\n",
            "Resolving deltas: 100% (148/148), done.\n"
          ],
          "name": "stdout"
        }
      ]
    },
    {
      "cell_type": "code",
      "metadata": {
        "id": "PTGAoWPVKhi1",
        "colab_type": "code",
        "colab": {}
      },
      "source": [
        "from pathlib import Path\n",
        "import numpy as np\n",
        "import numpy.testing as npt\n",
        "import re\n",
        "\n",
        "sys.path.append(Path(\"sentiment_analysis\").resolve().as_posix())\n",
        "from sentiment_analysis import utils\n",
        "import project1 as p1\n",
        "from Project1_Algorithms import perceptron, average_perceptron, pegasos"
      ],
      "execution_count": 0,
      "outputs": []
    },
    {
      "cell_type": "markdown",
      "metadata": {
        "id": "1uEjkWmsZWih",
        "colab_type": "text"
      },
      "source": [
        "## Algorithm Discussion"
      ]
    },
    {
      "cell_type": "markdown",
      "metadata": {
        "id": "fnsiEJzZaTGs",
        "colab_type": "text"
      },
      "source": [
        "### Plot"
      ]
    },
    {
      "cell_type": "code",
      "metadata": {
        "id": "IvJdteibWMr2",
        "colab_type": "code",
        "outputId": "d5b32940-cdf3-486f-90aa-46269ba193df",
        "colab": {
          "base_uri": "https://localhost:8080/",
          "height": 899
        }
      },
      "source": [
        "toy_features, toy_labels = toy_data = utils.load_toy_data('sentiment_analysis/toy_data.tsv')\n",
        "T = 10\n",
        "L = 0.2\n",
        "\n",
        "thetas = perceptron(toy_features, toy_labels, T)\n",
        "print(thetas)\n",
        "utils.plot_toy_data(\"Perceptron\", toy_features, toy_labels, thetas)\n",
        "\n",
        "thetas = average_perceptron(toy_features, toy_labels, T)\n",
        "print(thetas)\n",
        "utils.plot_toy_data(\"Average Perceptron\", toy_features, toy_labels, thetas)\n",
        "\n",
        "thetas = pegasos(toy_features, toy_labels, T, L)\n",
        "print(thetas)\n",
        "utils.plot_toy_data(\"Pegasos\", toy_features, toy_labels, thetas)"
      ],
      "execution_count": 4,
      "outputs": [
        {
          "output_type": "stream",
          "text": [
            "(array([3.9174, 4.164 ]), -8.0)\n"
          ],
          "name": "stdout"
        },
        {
          "output_type": "display_data",
          "data": {
            "image/png": "[encoded data removed]",
            "text/plain": [
              "<Figure size 432x288 with 1 Axes>"
            ]
          },
          "metadata": {
            "tags": []
          }
        },
        {
          "output_type": "stream",
          "text": [
            "(array([3.4782605, 3.611061 ]), -6.373)\n"
          ],
          "name": "stdout"
        },
        {
          "output_type": "display_data",
          "data": {
            "image/png": "[encoded data removed]",
            "text/plain": [
              "<Figure size 432x288 with 1 Axes>"
            ]
          },
          "metadata": {
            "tags": []
          }
        },
        {
          "output_type": "stream",
          "text": [
            "(array([0.73464631, 0.63002246]), -1.2195071848898564)\n"
          ],
          "name": "stdout"
        },
        {
          "output_type": "display_data",
          "data": {
            "image/png": "[encoded data removed]",
            "text/plain": [
              "<Figure size 432x288 with 1 Axes>"
            ]
          },
          "metadata": {
            "tags": []
          }
        }
      ]
    },
    {
      "cell_type": "markdown",
      "metadata": {
        "id": "9p39rB9z52NX",
        "colab_type": "text"
      },
      "source": [
        "### Convergence"
      ]
    },
    {
      "cell_type": "code",
      "metadata": {
        "colab_type": "code",
        "outputId": "13332b9f-eeec-4c10-a304-1a0d6c99810e",
        "id": "1A0AsFOj57IQ",
        "colab": {
          "base_uri": "https://localhost:8080/",
          "height": 221
        }
      },
      "source": [
        "print(\"Perceptron\")\n",
        "for T in [100, 500, 1000]:\n",
        "  thetas = perceptron(toy_features, toy_labels, T)\n",
        "  print(T, thetas)\n",
        "\n",
        "print(\"Average Perceptron\")\n",
        "for T in [100, 500, 1000]:\n",
        "  thetas = average_perceptron(toy_features, toy_labels, T)\n",
        "  print(T, thetas)\n",
        "\n",
        "print(\"Pegasos\")\n",
        "for T in [100, 500, 1000]:\n",
        "  thetas = pegasos(toy_features, toy_labels, T, L)\n",
        "  print(T, thetas)"
      ],
      "execution_count": 5,
      "outputs": [
        {
          "output_type": "stream",
          "text": [
            "Perceptron\n",
            "100 (array([3.9265, 3.5206]), -7.0)\n",
            "500 (array([3.3189, 5.5648]), -8.0)\n",
            "1000 (array([2.5128, 4.1252]), -7.0)\n",
            "Average Perceptron\n",
            "100 (array([3.87351139, 3.88024196]), -7.01295)\n",
            "500 (array([3.8687851 , 3.89030957]), -7.05808)\n",
            "1000 (array([3.87607472, 3.90731127]), -7.081905)\n",
            "Pegasos\n",
            "100 (array([0.689572, 0.571497]), -1.2426141399854491)\n",
            "500 (array([0.6708388 , 0.58498822]), -1.2308657435730184)\n",
            "1000 (array([0.66139583, 0.59495516]), -1.2310716055759896)\n"
          ],
          "name": "stdout"
        }
      ]
    },
    {
      "cell_type": "markdown",
      "metadata": {
        "id": "KsKVVNGZnERg",
        "colab_type": "text"
      },
      "source": [
        "## Classification and Accuracy\n"
      ]
    },
    {
      "cell_type": "code",
      "metadata": {
        "id": "onjlx8JyM0Id",
        "colab_type": "code",
        "colab": {}
      },
      "source": [
        "def classify(feature_matrix, theta, theta_0):\n",
        "    \"\"\"\n",
        "    A classification function that uses theta and theta_0 to classify a set of\n",
        "    data points.\n",
        "\n",
        "    Args:\n",
        "        feature_matrix - A numpy matrix describing the given data. Each row\n",
        "            represents a single data point.\n",
        "                theta - A numpy array describing the linear classifier.\n",
        "        theta - A numpy array describing the linear classifier.\n",
        "        theta_0 - A real valued number representing the offset parameter.\n",
        "\n",
        "    Returns: A numpy array of 1s and -1s where the kth element of the array is\n",
        "    the predicted classification of the kth row of the feature matrix using the\n",
        "    given theta and theta_0. If a prediction is GREATER THAN zero, it should\n",
        "    be considered a positive classification.\n",
        "    \"\"\"\n",
        "    # Your code here\n",
        "    predictions_raw = feature_matrix.dot(theta) + theta_0\n",
        "    predictions = np.where(predictions_raw > 0, 1.0, -1.0)\n",
        "    \n",
        "    return predictions\n",
        "  \n",
        "def test_classify(feature_matrix, theta, theta_0, exp_predictions):\n",
        "  predictions = classify(feature_matrix, theta, theta_0)\n",
        "  npt.assert_equal(predictions, exp_predictions)\n",
        "\n",
        "feature_matrix = np.array([[1, 1], [1, 1], [1, 1]])\n",
        "theta = np.array([1, 1])\n",
        "theta_0 = 0\n",
        "exp_predictions = np.array([1, 1, 1])\n",
        "test_classify(feature_matrix, theta, theta_0, exp_predictions)\n",
        "\n",
        "feature_matrix = np.array([[-1, 1]])\n",
        "theta = np.array([1, 1])\n",
        "theta_0 = 0\n",
        "exp_predictions = np.array([-1])\n",
        "test_classify(feature_matrix, theta, theta_0, exp_predictions)"
      ],
      "execution_count": 0,
      "outputs": []
    },
    {
      "cell_type": "code",
      "metadata": {
        "id": "taOedYjabuR3",
        "colab_type": "code",
        "colab": {}
      },
      "source": [
        "def accuracy(preds, targets):\n",
        "    \"\"\"\n",
        "    Given length-N vectors containing predicted and target labels,\n",
        "    returns the percentage and number of correct predictions.\n",
        "    \"\"\"\n",
        "    return (preds == targets).mean()\n",
        "  \n",
        "def classifier_accuracy(\n",
        "        classifier,\n",
        "        train_feature_matrix,\n",
        "        val_feature_matrix,\n",
        "        train_labels,\n",
        "        val_labels,\n",
        "        **kwargs):\n",
        "    \"\"\"\n",
        "    Trains a linear classifier and computes accuracy.\n",
        "    The classifier is trained on the train data. The classifier's\n",
        "    accuracy on the train and validation data is then returned.\n",
        "\n",
        "    Args:\n",
        "        classifier - A classifier function that takes arguments\n",
        "            (feature matrix, labels, **kwargs) and returns (theta, theta_0)\n",
        "        train_feature_matrix - A numpy matrix describing the training\n",
        "            data. Each row represents a single data point.\n",
        "        val_feature_matrix - A numpy matrix describing the training\n",
        "            data. Each row represents a single data point.\n",
        "        train_labels - A numpy array where the kth element of the array\n",
        "            is the correct classification of the kth row of the training\n",
        "            feature matrix.\n",
        "        val_labels - A numpy array where the kth element of the array\n",
        "            is the correct classification of the kth row of the validation\n",
        "            feature matrix.\n",
        "        **kwargs - Additional named arguments to pass to the classifier\n",
        "            (e.g. T or L)\n",
        "\n",
        "    Returns: A tuple in which the first element is the (scalar) accuracy of the\n",
        "    trained classifier on the training data and the second element is the\n",
        "    accuracy of the trained classifier on the validation data.\n",
        "    \"\"\"\n",
        "    # Your code here\n",
        "    theta, theta_0 = classifier(train_feature_matrix, train_labels, **kwargs)\n",
        "    \n",
        "    # On training data\n",
        "    predictions = classify(train_feature_matrix, theta, theta_0)\n",
        "    train_accu = accuracy(predictions, train_labels)\n",
        "    \n",
        "    # On validation data\n",
        "    predictions = classify(val_feature_matrix, theta, theta_0)\n",
        "    val_accu = accuracy(predictions, val_labels)\n",
        "    \n",
        "    return train_accu, val_accu\n",
        "  \n",
        "def test_classifier_accuracy(classifier, train_feature_matrix, val_feature_matrix, \n",
        "                             train_labels, val_labels, exp_train_accu, exp_val_accu, **kwargs):\n",
        "  train_accu, val_accu = classifier_accuracy(classifier, train_feature_matrix, val_feature_matrix, \n",
        "                                             train_labels, val_labels, **kwargs)\n",
        "  npt.assert_equal(train_accu, exp_train_accu)\n",
        "  npt.assert_equal(val_accu, exp_val_accu)\n",
        "\n",
        "train_feature_matrix = np.array([[1, 0], [1, -1], [2, 3]])\n",
        "val_feature_matrix = np.array([[1, 1], [2, -1]])\n",
        "train_labels = np.array([1, -1, 1])\n",
        "val_labels = np.array([-1, 1])\n",
        "exp_train_accu, exp_val_accu = 1, 0\n",
        "T=1\n",
        "test_classifier_accuracy(perceptron, train_feature_matrix, val_feature_matrix, \n",
        "                             train_labels, val_labels, exp_train_accu, exp_val_accu, T=T)\n",
        "\n",
        "train_feature_matrix = np.array([[1, 0], [1, -1], [2, 3]])\n",
        "val_feature_matrix = np.array([[1, 1], [2, -1]])\n",
        "train_labels = np.array([1, -1, 1])\n",
        "val_labels = np.array([-1, 1])\n",
        "exp_train_accu, exp_val_accu = 1, 0\n",
        "T=1\n",
        "L=0.2\n",
        "test_classifier_accuracy(pegasos, train_feature_matrix, val_feature_matrix, \n",
        "                             train_labels, val_labels, exp_train_accu, exp_val_accu, T=T, L=L)"
      ],
      "execution_count": 0,
      "outputs": []
    },
    {
      "cell_type": "code",
      "metadata": {
        "id": "zb645N8gzBwb",
        "colab_type": "code",
        "outputId": "1ae63cb7-42cf-44cf-d0a5-5137bb7e0d5f",
        "colab": {
          "base_uri": "https://localhost:8080/",
          "height": 119
        }
      },
      "source": [
        "# Load data\n",
        "train_data = utils.load_data('sentiment_analysis/reviews_train.tsv')\n",
        "val_data = utils.load_data('sentiment_analysis/reviews_val.tsv')\n",
        "test_data = utils.load_data('sentiment_analysis/reviews_test.tsv')\n",
        "\n",
        "train_texts, train_labels = zip(*((sample['text'], sample['sentiment']) for sample in train_data))\n",
        "val_texts, val_labels = zip(*((sample['text'], sample['sentiment']) for sample in val_data))\n",
        "test_texts, test_labels = zip(*((sample['text'], sample['sentiment']) for sample in test_data))\n",
        "\n",
        "dictionary = p1.bag_of_words(train_texts)\n",
        "\n",
        "train_bow_features = p1.extract_bow_feature_vectors(train_texts, dictionary)\n",
        "val_bow_features = p1.extract_bow_feature_vectors(val_texts, dictionary)\n",
        "test_bow_features = p1.extract_bow_feature_vectors(test_texts, dictionary)\n",
        "\n",
        "# Run algorithms\n",
        "T = 10\n",
        "L = 0.01\n",
        "\n",
        "print(\"Perceptron\")\n",
        "train_accu, val_accu = classifier_accuracy(perceptron, train_bow_features,\n",
        "                                           val_bow_features, train_labels,val_labels,T=T)\n",
        "print(train_accu, val_accu)\n",
        "\n",
        "print(\"Average Perceptron\")\n",
        "train_accu, val_accu = classifier_accuracy(average_perceptron, train_bow_features,\n",
        "                                           val_bow_features,train_labels,val_labels,T=T)\n",
        "print(train_accu, val_accu)\n",
        "\n",
        "print(\"Pegasos\")\n",
        "train_accu, val_accu = classifier_accuracy(pegasos, train_bow_features,\n",
        "                                           val_bow_features,train_labels,val_labels,T=T,L=L)\n",
        "print(train_accu, val_accu)"
      ],
      "execution_count": 8,
      "outputs": [
        {
          "output_type": "stream",
          "text": [
            "Perceptron\n",
            "0.81575 0.716\n",
            "Average Perceptron\n",
            "0.97275 0.798\n",
            "Pegasos\n",
            "0.91425 0.79\n"
          ],
          "name": "stdout"
        }
      ]
    },
    {
      "cell_type": "markdown",
      "metadata": {
        "id": "EeQDjH4bQezl",
        "colab_type": "text"
      },
      "source": [
        "## Parameter Tuning\n",
        "Find optimal parameters for each algorithm"
      ]
    },
    {
      "cell_type": "markdown",
      "metadata": {
        "id": "EI9iBEq4VXhi",
        "colab_type": "text"
      },
      "source": [
        "### Performance After Tuning\n"
      ]
    },
    {
      "cell_type": "code",
      "metadata": {
        "colab_type": "code",
        "id": "xulhVDJqvWjU",
        "colab": {}
      },
      "source": [
        "def tune_pct(train_feats, train_labels, val_feats, val_labels, Ts, avg_pct=False):\n",
        "  \"\"\"\n",
        "  Find T in Ts that results in best accuracy on val_feats\n",
        "  avg_pct: if False, perceptron algorithm; average_perceptron otherwise\n",
        "  \"\"\"\n",
        "  \n",
        "  classifier = (perceptron if not avg_pct else average_perceptron)\n",
        "  Ts = np.asarray(Ts)\n",
        "  \n",
        "  accus = np.zeros(len(Ts))\n",
        "  for i in np.ndindex(*accus.shape):\n",
        "    T = Ts[i]\n",
        "    train_accu, val_accu = classifier_accuracy(classifier, train_feats, val_feats,\n",
        "                                               train_labels, val_labels, T=T)\n",
        "    accus[i] = val_accu\n",
        "\n",
        "  i_max = np.argmax(accus)\n",
        "  \n",
        "  return Ts[i_max], accus[i_max]\n",
        "\n",
        "def tune_peg(train_feats, train_labels, val_feats, val_labels, Ts, Ls):\n",
        "  \"\"\"\n",
        "  Find T, L in Ts, Ls that result in best accuracy on val_feats for Pegasos\n",
        "  \"\"\"\n",
        "  \n",
        "  Ts = np.asarray(Ts)\n",
        "  Ls = np.asarray(Ls)\n",
        "  \n",
        "  accus = np.zeros((len(Ts), len(Ls)))\n",
        "  for i, j in np.ndindex(*accus.shape):\n",
        "    T, L = Ts[i], Ls[j]\n",
        "    train_accu, val_accu = classifier_accuracy(pegasos, train_feats, val_feats,\n",
        "                                               train_labels, val_labels, T=T, L=L)\n",
        "    accus[i, j] = val_accu\n",
        "\n",
        "    i_max, j_max = ind = np.unravel_index(accus.argmax(), accus.shape)\n",
        "  \n",
        "  return (Ts[i_max], Ls[j_max]), accus[ind]"
      ],
      "execution_count": 0,
      "outputs": []
    },
    {
      "cell_type": "code",
      "metadata": {
        "id": "-bk-0DWBQjbe",
        "colab_type": "code",
        "colab": {
          "base_uri": "https://localhost:8080/",
          "height": 153
        },
        "outputId": "de53f202-97b0-4cce-ef29-3b27c36fa52a"
      },
      "source": [
        "data = (train_bow_features, train_labels, val_bow_features, val_labels)\n",
        "\n",
        "# values of T and lambda to try\n",
        "Ts = [1, 5, 10, 15, 25, 50]\n",
        "Ls = [0.001, 0.01, 0.1, 1, 10]\n",
        "\n",
        "print(\"Perceptron\")\n",
        "opt_T, opt_accu = tune_pct(*data, Ts)\n",
        "print(opt_T, opt_accu)\n",
        "\n",
        "print(\"Average Perceptron\")\n",
        "opt_T, opt_accu = tune_pct(*data, Ts, avg_pct=True)\n",
        "print(opt_T, opt_accu)\n",
        "\n",
        "# fix values for L and T while tuning Pegasos T and L, respective\n",
        "print('Pegasos: tune T')\n",
        "fix_L = 0.01\n",
        "(fix_T, opt_L), opt_accu = tune_peg(*data, Ts, [fix_L])\n",
        "print((fix_T, opt_L), opt_accu)\n",
        "\n",
        "print('Pegasos: tune L')\n",
        "(opt_T, opt_L), opt_accu = tune_peg(*data, [fix_T], Ls)\n",
        "print((opt_T, opt_L), opt_accu)"
      ],
      "execution_count": 10,
      "outputs": [
        {
          "output_type": "stream",
          "text": [
            "Perceptron\n",
            "25 0.794\n",
            "Average Perceptron\n",
            "25 0.8\n",
            "Pegasos: tune T\n",
            "(25, 0.01) 0.806\n",
            "Pegasos: tune L\n",
            "(25, 0.01) 0.806\n"
          ],
          "name": "stdout"
        }
      ]
    },
    {
      "cell_type": "markdown",
      "metadata": {
        "id": "iU3UpLbiVaA4",
        "colab_type": "text"
      },
      "source": [
        "### Accuracy on the test set\n"
      ]
    },
    {
      "cell_type": "code",
      "metadata": {
        "id": "MoL1cvN3G6_-",
        "colab_type": "code",
        "colab": {
          "base_uri": "https://localhost:8080/",
          "height": 51
        },
        "outputId": "c46a9eaa-a85d-42d1-efba-67dc48d58ce2"
      },
      "source": [
        "print(\"Pegasos\")\n",
        "best_classifier = pegasos\n",
        "best_T, best_L = 25, 0.01\n",
        "train_accu, test_accu = classifier_accuracy(best_classifier, train_bow_features, test_bow_features,\n",
        "                                            train_labels, test_labels, T=best_T, L=best_L)\n",
        "print(train_accu, test_accu)"
      ],
      "execution_count": 11,
      "outputs": [
        {
          "output_type": "stream",
          "text": [
            "Pegasos\n",
            "0.9185 0.802\n"
          ],
          "name": "stdout"
        }
      ]
    },
    {
      "cell_type": "markdown",
      "metadata": {
        "id": "F1q35AMobOb7",
        "colab_type": "text"
      },
      "source": [
        "### The most explanatory unigrams\n"
      ]
    },
    {
      "cell_type": "code",
      "metadata": {
        "id": "q30hnV-9Ze14",
        "colab_type": "code",
        "colab": {
          "base_uri": "https://localhost:8080/",
          "height": 85
        },
        "outputId": "6c092f04-0198-4d15-b515-669ee85c64cb"
      },
      "source": [
        "best_theta, best_theta_0 = best_classifier(train_bow_features, train_labels, T=best_T, L=best_L)\n",
        "wordlist = [word for (idx, word) in sorted(zip(dictionary.values(), dictionary.keys()))]\n",
        "sorted_word_features = utils.most_explanatory_word(best_theta, wordlist)\n",
        "print(\"Most Explanatory Word Features\")\n",
        "print(sorted_word_features[:10])\n",
        "\n",
        "print(\"Most impactful in predicting negative labels\")\n",
        "print(sorted_word_features[:-11:-1])"
      ],
      "execution_count": 12,
      "outputs": [
        {
          "output_type": "stream",
          "text": [
            "Most Explanatory Word Features\n",
            "['delicious', 'great', '!', 'best', 'perfect', 'loves', 'wonderful', 'glad', 'love', 'quickly']\n",
            "Most impactful in predicting negative labels\n",
            "['disappointed', 'bad', 'not', 'however', 'but', 'unfortunately', 'awful', 'money', 'ok', '$']\n"
          ],
          "name": "stdout"
        }
      ]
    },
    {
      "cell_type": "markdown",
      "metadata": {
        "id": "NI3uEx3LjirU",
        "colab_type": "text"
      },
      "source": [
        "## Feature Engineering\n"
      ]
    },
    {
      "cell_type": "markdown",
      "metadata": {
        "id": "jhfywX9mj87F",
        "colab_type": "text"
      },
      "source": [
        "### Remove Stop Words\n",
        "Reconstruct dictionary, excluding stop words.  \n"
      ]
    },
    {
      "cell_type": "code",
      "metadata": {
        "id": "-Av5S03kjn69",
        "colab_type": "code",
        "colab": {
          "base_uri": "https://localhost:8080/",
          "height": 51
        },
        "outputId": "72a4360f-5786-46cc-b40d-ca13fa0cd3d2"
      },
      "source": [
        "# New data\n",
        "with open(\"sentiment_analysis/stopwords.txt\") as f:\n",
        "  stop_words = re.findall(r'\\w+', f.read())\n",
        "dictionary_rest = p1.bag_of_words(train_texts, stop_words=stop_words)\n",
        "train_features_rest = p1.extract_bow_feature_vectors(train_texts, dictionary_rest)\n",
        "val_features_rest = p1.extract_bow_feature_vectors(val_texts, dictionary_rest)\n",
        "test_features_rest = p1.extract_bow_feature_vectors(test_texts, dictionary_rest)\n",
        "\n",
        "print(\"Accuracy on the test set\")\n",
        "train_accu, test_accu = classifier_accuracy(best_classifier, train_features_rest, test_features_rest,\n",
        "                                            train_labels, test_labels, T=best_T, L=best_L)\n",
        "print(train_accu, test_accu)"
      ],
      "execution_count": 24,
      "outputs": [
        {
          "output_type": "stream",
          "text": [
            "Accuracy on the test set\n",
            "0.91575 0.808\n"
          ],
          "name": "stdout"
        }
      ]
    },
    {
      "cell_type": "markdown",
      "metadata": {
        "id": "8ccpoFrx_vna",
        "colab_type": "text"
      },
      "source": [
        "### Change Binary Features to Counts Features\n"
      ]
    },
    {
      "cell_type": "code",
      "metadata": {
        "id": "Re1ni75M_xax",
        "colab_type": "code",
        "colab": {
          "base_uri": "https://localhost:8080/",
          "height": 51
        },
        "outputId": "d363c65f-b075-4398-ce4b-9670c4c738e7"
      },
      "source": [
        "train_features_count = p1.extract_bow_feature_vectors(train_texts, dictionary_rest, binary=False)\n",
        "val_features_count = p1.extract_bow_feature_vectors(val_texts, dictionary_rest, binary=False)\n",
        "test_features_count = p1.extract_bow_feature_vectors(test_texts, dictionary_rest, binary=False)\n",
        "\n",
        "print(\"Accuracy on the test set\")\n",
        "train_accu, test_accu = classifier_accuracy(best_classifier, train_features_count, test_features_count,\n",
        "                                            train_labels, test_labels, T=best_T, L=best_L)\n",
        "print(train_accu, test_accu)"
      ],
      "execution_count": 34,
      "outputs": [
        {
          "output_type": "stream",
          "text": [
            "Accuracy on the test set\n",
            "0.89275 0.77\n"
          ],
          "name": "stdout"
        }
      ]
    }
  ]
}