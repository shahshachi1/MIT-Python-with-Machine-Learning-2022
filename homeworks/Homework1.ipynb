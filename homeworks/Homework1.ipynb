{
  "nbformat": 4,
  "nbformat_minor": 0,
  "metadata": {
    "colab": {
      "name": "Homework1.ipynb",
      "version": "0.3.2",
      "provenance": [],
      "collapsed_sections": [],
      "include_colab_link": true
    },
    "kernelspec": {
      "name": "python3",
      "display_name": "Python 3"
    },
    "accelerator": "GPU"
  },
  "cells": [
    {
      "cell_type": "markdown",
      "metadata": {
        "id": "view-in-github",
        "colab_type": "text"
      },
      "source": [
        "<a href=\"https://colab.research.google.com/github/Data-Science-and-Data-Analytics-Courses/MITx---Machine-Learning-with-Python-From-Linear-Models-to-Deep-Learning-Jun-11-2019/blob/master/homeworks/Homework1.ipynb\" target=\"_parent\"><img src=\"https://colab.research.google.com/assets/colab-badge.svg\" alt=\"Open In Colab\"/></a>"
      ]
    },
    {
      "cell_type": "markdown",
      "metadata": {
        "id": "d6tGpYtc6asY",
        "colab_type": "text"
      },
      "source": [
        "# Packages and libraries"
      ]
    },
    {
      "cell_type": "code",
      "metadata": {
        "id": "BAQaKOFS6pMs",
        "colab_type": "code",
        "colab": {}
      },
      "source": [
        "import numpy as np\n",
        "from itertools import chain\n",
        "import matplotlib.pyplot as plt"
      ],
      "execution_count": 0,
      "outputs": []
    },
    {
      "cell_type": "markdown",
      "metadata": {
        "id": "t8DoUAdW4prA",
        "colab_type": "text"
      },
      "source": [
        "# 1. Perceptron Mistakes\n",
        "In this problem, we will investigate perceptron algorithm with different iteration ordering.\n",
        "\n",
        "Consider applying the perceptron algorithm through the origin based on a small training set containing three points:\n",
        "\n",
        "x(1)  =[-1,-1],\t y(1) =1  \n",
        "x(2)  =[1,0],\t y(2) =-1  \n",
        "x(3)  =[-1, 1.5],\t y(3) =1  \n",
        "Given that the algorithm starts with  θ(0)=0 , the first point that the algorithm sees is always considered a mistake. The algorithm starts with some data point and then cycles through the data (in order) until it makes no further mistakes.  \n"
      ]
    },
    {
      "cell_type": "markdown",
      "metadata": {
        "id": "028diqXjEIDH",
        "colab_type": "text"
      },
      "source": [
        "(a)  \n",
        "4 points possible (graded)  \n",
        "How many mistakes does the algorithm make until convergence if the algorithm starts with data point x(1)? How many mistakes does the algorithm make if it starts with data point x(2)?  \n",
        "\n",
        "Also provide the progression of the separating plane as the algorithm cycles in the following format: [[θ(1)1,θ(1)2],…,[θ(N)1,θ(N)2]], where the superscript denotes different theta as the separating plane progresses. For example, if θ progress from [0,0] (initialization) to [1,2] to [3,−2], you should enter [[1,2],[3,−2]]  \n",
        "\n"
      ]
    },
    {
      "cell_type": "code",
      "metadata": {
        "id": "4h9xN6vO3DUX",
        "colab_type": "code",
        "outputId": "ed522373-d2eb-4521-c08e-7dd18ba32800",
        "colab": {
          "base_uri": "https://localhost:8080/",
          "height": 51
        }
      },
      "source": [
        "def perceptron(x, y, w0=0, start=0):\n",
        "  \"\"\"\n",
        "  Decision boundary: wx(i) + w0 = 0\n",
        "  \"\"\"\n",
        "\n",
        "  n = x.shape[0]\n",
        "  w = np.zeros(2)\n",
        "  weights = [] # updating progress\n",
        "  while True:\n",
        "    converged = True\n",
        "    for i in chain(range(start, n), range(start)):\n",
        "      if y[i] * (w.dot(x[i]) + w0) <= 0: # misclassified\n",
        "        w += y[i]*x[i] # update weight\n",
        "        weights.append(w.tolist()) # capture intermediate weight\n",
        "        converged = False\n",
        "    \n",
        "    if converged:\n",
        "      break\n",
        "  \n",
        "  return weights\n",
        "\n",
        "x = np.array([[-1,-1], [1,0], [-1, 1.5]])\n",
        "y = np.array([1, -1, 1])\n",
        "print(perceptron(x, y))\n",
        "print(perceptron(x, y, start=1))"
      ],
      "execution_count": 0,
      "outputs": [
        {
          "output_type": "stream",
          "text": [
            "[[-1.0, -1.0], [-2.0, 0.5]]\n",
            "[[-1.0, 0.0]]\n"
          ],
          "name": "stdout"
        }
      ]
    },
    {
      "cell_type": "markdown",
      "metadata": {
        "id": "ytbhOv5rLmZq",
        "colab_type": "text"
      },
      "source": [
        "(c)  \n",
        "4 points possible (graded)  \n",
        "Now assume that x(3)=[−1,10]. How many mistakes does the algorithm make until convergence if cycling starts with data point x(1)?  \n",
        "\n",
        "Also provide the progression of the separating plane as the algorithm cycles in the following format: [[θ(1)1,θ(1)2],…,[θ(N)1,θ(N)2]], where the superscript denotes different theta as the separating plane progresses.  \n"
      ]
    },
    {
      "cell_type": "code",
      "metadata": {
        "id": "TY7idBA4LrQb",
        "colab_type": "code",
        "outputId": "e821494f-f900-4a1c-e8fe-8e074b8e2cd3",
        "colab": {
          "base_uri": "https://localhost:8080/",
          "height": 51
        }
      },
      "source": [
        "x2 = np.array([[-1,-1], [1,0], [-1, 10]])\n",
        "y2 = np.array([1, -1, 1])\n",
        "print(perceptron(x2, y2))\n",
        "print(perceptron(x2, y2, start=1))"
      ],
      "execution_count": 0,
      "outputs": [
        {
          "output_type": "stream",
          "text": [
            "[[-1.0, -1.0], [-2.0, 9.0], [-3.0, 8.0], [-4.0, 7.0], [-5.0, 6.0], [-6.0, 5.0]]\n",
            "[[-1.0, 0.0]]\n"
          ],
          "name": "stdout"
        }
      ]
    },
    {
      "cell_type": "markdown",
      "metadata": {
        "id": "dhOoT7qzM1Yk",
        "colab_type": "text"
      },
      "source": [
        "(d)  \n",
        "1 point possible (graded)  \n",
        "For a fixed iteration order, what are the factors that affect the number of mistakes made by the algorithm between part (a) and part (c)?  \n",
        "\n",
        "Note: Only choose factors that were changed between part (a) and part (c), not all factors that can affect the number of mistakes  \n"
      ]
    },
    {
      "cell_type": "code",
      "metadata": {
        "id": "DIc2fvDfM54J",
        "colab_type": "code",
        "outputId": "005d2453-f14f-4bcd-8023-4e11cef07e70",
        "colab": {
          "base_uri": "https://localhost:8080/",
          "height": 286
        }
      },
      "source": [
        "plt.scatter(x[:, 0], x[:, 1], color=\"r\", marker='^')\n",
        "plt.scatter(x2[:, 0], x2[:, 1], color=\"b\", alpha=.4)"
      ],
      "execution_count": 0,
      "outputs": [
        {
          "output_type": "execute_result",
          "data": {
            "text/plain": [
              "<matplotlib.collections.PathCollection at 0x7fdf9c4aff28>"
            ]
          },
          "metadata": {
            "tags": []
          },
          "execution_count": 58
        },
        {
          "output_type": "display_data",
          "data": {
            "image/png": "[encoded data removed]",
            "text/plain": [
              "<Figure size 432x288 with 1 Axes>"
            ]
          },
          "metadata": {
            "tags": []
          }
        }
      ]
    },
    {
      "cell_type": "markdown",
      "metadata": {
        "colab_type": "text",
        "id": "ZQyPJ3BDTSuM"
      },
      "source": [
        "# 2. Perceptron Performance\n"
      ]
    },
    {
      "cell_type": "markdown",
      "metadata": {
        "id": "2Oadzxk4TsqV",
        "colab_type": "text"
      },
      "source": [
        "(a)  \n",
        "2 points possible (graded)  \n",
        "The following table shows a data set and the number of times each point is misclassified during a run of the perceptron algorithm (with offset θ0). θ and θ0 are initialized to zero.  \n",
        "\n",
        "i\tx(i)\ty(i)\ttimes misclassified  \n",
        "1\t[-4, 2]\t+1\t1  \n",
        "2\t[-2, 1]\t+1\t0  \n",
        "3\t[-1, -1]\t-1\t2  \n",
        "4\t[2, 2]\t-1\t1  \n",
        "5\t[1, -2]\t-1\t0  \n",
        "Write down the state of θ and θ0 after this run has completed (note, the algorithm may not yet have converged). Enter θ as a list [θ1,θ2] and θ0 as a single number in the following boxes.  \n"
      ]
    },
    {
      "cell_type": "code",
      "metadata": {
        "id": "yxsUTvOxTzuf",
        "colab_type": "code",
        "outputId": "7be54e1a-43f4-40bc-8606-c8301f1d4324",
        "colab": {
          "base_uri": "https://localhost:8080/",
          "height": 51
        }
      },
      "source": [
        "def misclassify(x, y, w=None, iters=1000):\n",
        "  \"\"\"\n",
        "  Decision boundary: wx(i) = 0\n",
        "  w: if None, initialize to 0\n",
        "  \"\"\"\n",
        "  \n",
        "  n, d = x.shape\n",
        "  x = np.column_stack((np.ones(n), x)) # add preceding 1's\n",
        "  if w is None:\n",
        "    w = np.zeros(d + 1) # add preceding offset\n",
        "  else:\n",
        "    w = np.array(w, dtype=float)\n",
        "\n",
        "  counts = np.zeros(n, dtype=int) # count of mistakes on each point\n",
        "  mistakes = [] # intermediate mistakes\n",
        "  weights = [] # intermediate weights\n",
        "  for k in range(iters):\n",
        "    converged = True\n",
        "    for i in range(n):\n",
        "      if y[i] * w.dot(x[i]) <= 0: # misclassified\n",
        "        w += y[i]*x[i] # update weight\n",
        "        counts[i] += 1 # update mistake count\n",
        "        weights.append(w.tolist()) # capture intermediate weight\n",
        "        mistakes.append(counts.tolist()) # capture intermediate mistakes\n",
        "        converged = False\n",
        "    \n",
        "    if converged:\n",
        "      break\n",
        "  \n",
        "  return mistakes, weights\n",
        "\n",
        "x3 = np.array([[-4, 2], [-2, 1], [-1, -1], [2, 2], [1, -2]])\n",
        "y3 = np.array([1, 1, -1, -1, -1])\n",
        "mistakes, weights = misclassify(x3, y3)\n",
        "print(mistakes)\n",
        "print(weights)"
      ],
      "execution_count": 0,
      "outputs": [
        {
          "output_type": "stream",
          "text": [
            "[[1, 0, 0, 0, 0], [1, 0, 1, 0, 0], [1, 0, 1, 1, 0], [1, 0, 2, 1, 0], [1, 0, 3, 1, 0]]\n",
            "[[1.0, -4.0, 2.0], [0.0, -3.0, 3.0], [-1.0, -5.0, 1.0], [-2.0, -4.0, 2.0], [-3.0, -3.0, 3.0]]\n"
          ],
          "name": "stdout"
        }
      ]
    },
    {
      "cell_type": "markdown",
      "metadata": {
        "id": "coRKqyWFob0S",
        "colab_type": "text"
      },
      "source": [
        "(b)  \n",
        "2 points possible (graded)  \n",
        "Provide one example of a different initialization of θ such that the perceptron algorithm with this initialization would not produce any mistakes during a run through the data.  \n"
      ]
    },
    {
      "cell_type": "code",
      "metadata": {
        "id": "oPdUx3eUoe6v",
        "colab_type": "code",
        "outputId": "cc8bd5d6-d3aa-40b1-9a01-e9e26dd92fa6",
        "colab": {
          "base_uri": "https://localhost:8080/",
          "height": 51
        }
      },
      "source": [
        "mistakes, weights = misclassify(x3, y3, w=(-10, -10, 10))\n",
        "print(mistakes)\n",
        "print(weights)"
      ],
      "execution_count": 0,
      "outputs": [
        {
          "output_type": "stream",
          "text": [
            "[]\n",
            "[]\n"
          ],
          "name": "stdout"
        }
      ]
    }
  ]
}