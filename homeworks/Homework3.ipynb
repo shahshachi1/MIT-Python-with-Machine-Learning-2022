{
  "nbformat": 4,
  "nbformat_minor": 0,
  "metadata": {
    "colab": {
      "name": "Homework3.ipynb",
      "version": "0.3.2",
      "provenance": [],
      "collapsed_sections": [],
      "include_colab_link": true
    },
    "kernelspec": {
      "name": "python3",
      "display_name": "Python 3"
    },
    "accelerator": "GPU"
  },
  "cells": [
    {
      "cell_type": "markdown",
      "metadata": {
        "id": "view-in-github",
        "colab_type": "text"
      },
      "source": [
        "<a href=\"https://colab.research.google.com/github/Data-Science-and-Data-Analytics-Courses/MITx---Machine-Learning-with-Python-From-Linear-Models-to-Deep-Learning-Jun-11-2019/blob/master/homeworks/Homework3.ipynb\" target=\"_parent\"><img src=\"https://colab.research.google.com/assets/colab-badge.svg\" alt=\"Open In Colab\"/></a>"
      ]
    },
    {
      "cell_type": "markdown",
      "metadata": {
        "id": "-jKf749g6256",
        "colab_type": "text"
      },
      "source": [
        "# Homework 3\n",
        "\n",
        "---\n",
        "\n"
      ]
    },
    {
      "cell_type": "markdown",
      "metadata": {
        "id": "LiqX2dH_HnE0",
        "colab_type": "text"
      },
      "source": [
        "## Setup"
      ]
    },
    {
      "cell_type": "code",
      "metadata": {
        "colab_type": "code",
        "outputId": "bd832c39-9112-4734-ded4-2ac5f0870d61",
        "id": "Xw3SOTRf9Nz_",
        "colab": {
          "base_uri": "https://localhost:8080/",
          "height": 272
        }
      },
      "source": [
        "import os, sys\n",
        "from pathlib import Path\n",
        "from google.colab import drive\n",
        "\n",
        "# Notebook Library\n",
        "url = \"https://github.com/Data-Science-and-Data-Analytics-Courses/Notebook-Library\"\n",
        "repo = Path(\"/nblib\")\n",
        "!git clone \"{url}\" \"{repo}\"\n",
        "if repo.parent.as_posix() not in sys.path:\n",
        "  sys.path.append(repo.parent.as_posix())\n",
        "%run \"{repo}/.Importable.ipynb\"\n",
        "\n",
        "from nblib import Git\n",
        "# Remote\n",
        "URL = \"https://github.com/Data-Science-and-Data-Analytics-Courses/MITx---Machine-Learning-with-Python-From-Linear-Models-to-Deep-Learning-Jun-11-2019\"\n",
        "REPO = Git.clone(URL, dest=\"/content\")\n",
        "if REPO.as_posix() not in sys.path:\n",
        "  sys.path.append(REPO.as_posix())\n",
        "\n",
        "# Working directory\n",
        "NBDIR = REPO / \"Unit 2 Nonlinear Classification, Linear regression, Collaborative Filtering (2 weeks)/Homeworks/\"\n",
        "os.chdir(NBDIR)\n",
        "\n",
        "from setup.Setup import *"
      ],
      "execution_count": 0,
      "outputs": [
        {
          "output_type": "stream",
          "text": [
            "Cloning into '/nblib'...\n",
            "remote: Enumerating objects: 32, done.\u001b[K\n",
            "remote: Counting objects: 100% (32/32), done.\u001b[K\n",
            "remote: Compressing objects: 100% (29/29), done.\u001b[K\n",
            "remote: Total 32 (delta 15), reused 7 (delta 2), pack-reused 0\u001b[K\n",
            "Unpacking objects: 100% (32/32), done.\n"
          ],
          "name": "stdout"
        },
        {
          "output_type": "display_data",
          "data": {
            "text/html": [
              "\n",
              "<style type='text/css'>\n",
              ".hll { background-color: #ffffcc }\n",
              ".c { color: #408080; font-style: italic } /* Comment */\n",
              ".err { border: 1px solid #FF0000 } /* Error */\n",
              ".k { color: #008000; font-weight: bold } /* Keyword */\n",
              ".o { color: #666666 } /* Operator */\n",
              ".ch { color: #408080; font-style: italic } /* Comment.Hashbang */\n",
              ".cm { color: #408080; font-style: italic } /* Comment.Multiline */\n",
              ".cp { color: #BC7A00 } /* Comment.Preproc */\n",
              ".cpf { color: #408080; font-style: italic } /* Comment.PreprocFile */\n",
              ".c1 { color: #408080; font-style: italic } /* Comment.Single */\n",
              ".cs { color: #408080; font-style: italic } /* Comment.Special */\n",
              ".gd { color: #A00000 } /* Generic.Deleted */\n",
              ".ge { font-style: italic } /* Generic.Emph */\n",
              ".gr { color: #FF0000 } /* Generic.Error */\n",
              ".gh { color: #000080; font-weight: bold } /* Generic.Heading */\n",
              ".gi { color: #00A000 } /* Generic.Inserted */\n",
              ".go { color: #888888 } /* Generic.Output */\n",
              ".gp { color: #000080; font-weight: bold } /* Generic.Prompt */\n",
              ".gs { font-weight: bold } /* Generic.Strong */\n",
              ".gu { color: #800080; font-weight: bold } /* Generic.Subheading */\n",
              ".gt { color: #0044DD } /* Generic.Traceback */\n",
              ".kc { color: #008000; font-weight: bold } /* Keyword.Constant */\n",
              ".kd { color: #008000; font-weight: bold } /* Keyword.Declaration */\n",
              ".kn { color: #008000; font-weight: bold } /* Keyword.Namespace */\n",
              ".kp { color: #008000 } /* Keyword.Pseudo */\n",
              ".kr { color: #008000; font-weight: bold } /* Keyword.Reserved */\n",
              ".kt { color: #B00040 } /* Keyword.Type */\n",
              ".m { color: #666666 } /* Literal.Number */\n",
              ".s { color: #BA2121 } /* Literal.String */\n",
              ".na { color: #7D9029 } /* Name.Attribute */\n",
              ".nb { color: #008000 } /* Name.Builtin */\n",
              ".nc { color: #0000FF; font-weight: bold } /* Name.Class */\n",
              ".no { color: #880000 } /* Name.Constant */\n",
              ".nd { color: #AA22FF } /* Name.Decorator */\n",
              ".ni { color: #999999; font-weight: bold } /* Name.Entity */\n",
              ".ne { color: #D2413A; font-weight: bold } /* Name.Exception */\n",
              ".nf { color: #0000FF } /* Name.Function */\n",
              ".nl { color: #A0A000 } /* Name.Label */\n",
              ".nn { color: #0000FF; font-weight: bold } /* Name.Namespace */\n",
              ".nt { color: #008000; font-weight: bold } /* Name.Tag */\n",
              ".nv { color: #19177C } /* Name.Variable */\n",
              ".ow { color: #AA22FF; font-weight: bold } /* Operator.Word */\n",
              ".w { color: #bbbbbb } /* Text.Whitespace */\n",
              ".mb { color: #666666 } /* Literal.Number.Bin */\n",
              ".mf { color: #666666 } /* Literal.Number.Float */\n",
              ".mh { color: #666666 } /* Literal.Number.Hex */\n",
              ".mi { color: #666666 } /* Literal.Number.Integer */\n",
              ".mo { color: #666666 } /* Literal.Number.Oct */\n",
              ".sb { color: #BA2121 } /* Literal.String.Backtick */\n",
              ".sc { color: #BA2121 } /* Literal.String.Char */\n",
              ".sd { color: #BA2121; font-style: italic } /* Literal.String.Doc */\n",
              ".s2 { color: #BA2121 } /* Literal.String.Double */\n",
              ".se { color: #BB6622; font-weight: bold } /* Literal.String.Escape */\n",
              ".sh { color: #BA2121 } /* Literal.String.Heredoc */\n",
              ".si { color: #BB6688; font-weight: bold } /* Literal.String.Interpol */\n",
              ".sx { color: #008000 } /* Literal.String.Other */\n",
              ".sr { color: #BB6688 } /* Literal.String.Regex */\n",
              ".s1 { color: #BA2121 } /* Literal.String.Single */\n",
              ".ss { color: #19177C } /* Literal.String.Symbol */\n",
              ".bp { color: #008000 } /* Name.Builtin.Pseudo */\n",
              ".vc { color: #19177C } /* Name.Variable.Class */\n",
              ".vg { color: #19177C } /* Name.Variable.Global */\n",
              ".vi { color: #19177C } /* Name.Variable.Instance */\n",
              ".il { color: #666666 } /* Literal.Number.Integer.Long */\n",
              "</style>\n"
            ],
            "text/plain": [
              "<IPython.core.display.HTML object>"
            ]
          },
          "metadata": {
            "tags": []
          }
        },
        {
          "output_type": "stream",
          "text": [
            "importing Jupyter notebook from /nblib/Git.ipynb\n",
            "Cloning into '/content/MITx---Machine-Learning-with-Python-From-Linear-Models-to-Deep-Learning-Jun-11-2019'...\n",
            "remote: Enumerating objects: 94, done.\u001b[K\n",
            "remote: Counting objects: 100% (94/94), done.\u001b[K\n",
            "remote: Compressing objects: 100% (75/75), done.\u001b[K\n",
            "remote: Total 434 (delta 44), reused 13 (delta 5), pack-reused 340\u001b[K\n",
            "Receiving objects: 100% (434/434), 5.50 MiB | 8.16 MiB/s, done.\n",
            "Resolving deltas: 100% (236/236), done.\n",
            "importing Jupyter notebook from /content/MITx---Machine-Learning-with-Python-From-Linear-Models-to-Deep-Learning-Jun-11-2019/setup/Setup.ipynb\n"
          ],
          "name": "stdout"
        }
      ]
    },
    {
      "cell_type": "markdown",
      "metadata": {
        "id": "_G3NIBvQB-yv",
        "colab_type": "text"
      },
      "source": [
        "## Collaborative Filtering, Kernels, Linear Regression\n",
        "In this question, we will use the alternating projections algorithm for low-rank matrix factorization, which aims to minimize\n",
        "\n",
        "$$\n",
        "J(U, V) = \\underbrace{\\frac{1}{2}\\sum _{(a,i) \\in D} (Y_{ai} - [UV^ T]_{ai})^2}_{\\text {Squared Error}} + \\underbrace{\\frac{\\lambda }{2}\\sum _{a=1}^ n \\sum _{j=1}^ k U_{aj}^2 + \\frac{\\lambda }{2}\\sum _{i=1}^ m \\sum _{j=1}^ k V_{ij}^2}_{\\text {Regularization}}.\n",
        "$$\n",
        "\n",
        "In the following, we will call the first term the squared error term, and the two terms with  λ  the regularization terms.\n",
        "\n",
        "Let  Y  be defined as\n",
        "\n",
        "$$\n",
        "Y = \\begin{bmatrix}  5 &  ? &  7 \\\\ ? &  2 &  ? \\\\ 4 &  ? &  ? \\\\ ? &  3 &  6 \\\\ \\end{bmatrix}\n",
        "$$\n",
        "\n",
        "D  is defined as the set of indices (a,i), where Ya,i is not missing. In this problem, we let k=λ=1. Additionally, U and V are initialized as U(0)=[6,0,3,6]T, and V(0)=[4,2,1]T.  \n"
      ]
    },
    {
      "cell_type": "markdown",
      "metadata": {
        "id": "s9f5RskVD4eT",
        "colab_type": "text"
      },
      "source": [
        "Compute  X , the matrix of predicted rankings  UVT  given the initial values for  U  and  V .  \n"
      ]
    },
    {
      "cell_type": "code",
      "metadata": {
        "id": "KX69t1TKDkuz",
        "colab_type": "code",
        "outputId": "b49cfe9e-7f7d-410b-aa32-6265971dc69a",
        "colab": {
          "base_uri": "https://localhost:8080/",
          "height": 85
        }
      },
      "source": [
        "u = np.array([6,0,3,6])\n",
        "v = np.array([4,2,1])\n",
        "x = np.outer(u, v)\n",
        "print(x)"
      ],
      "execution_count": 0,
      "outputs": [
        {
          "output_type": "stream",
          "text": [
            "[[24 12  6]\n",
            " [ 0  0  0]\n",
            " [12  6  3]\n",
            " [24 12  6]]\n"
          ],
          "name": "stdout"
        }
      ]
    },
    {
      "cell_type": "markdown",
      "metadata": {
        "id": "xewcUoPULyKB",
        "colab_type": "text"
      },
      "source": [
        "Compute the squared error term, and the regularization terms in for the current estimate  X .  \n"
      ]
    },
    {
      "cell_type": "code",
      "metadata": {
        "id": "QAsKmMD7LzaT",
        "colab_type": "code",
        "outputId": "26cd088a-83d6-40cf-9dbc-5541aa1ef086",
        "colab": {
          "base_uri": "https://localhost:8080/",
          "height": 51
        }
      },
      "source": [
        "la = 1 # lambda\n",
        "y = ma.masked_invalid([[5, np.nan, 7],\n",
        "                      [np.nan, 2, np.nan],\n",
        "                      [4, np.nan, np.nan],\n",
        "                      [np.nan, 3, 6]])\n",
        "err_sq = 1/2 * np.sum((y-x)**2)\n",
        "reg = 1/2 * la * (np.sum(u**2) + np.sum(v**2))\n",
        "print(err_sq)\n",
        "print(reg)"
      ],
      "execution_count": 0,
      "outputs": [
        {
          "output_type": "stream",
          "text": [
            "255.5\n",
            "51.0\n"
          ],
          "name": "stdout"
        }
      ]
    },
    {
      "cell_type": "markdown",
      "metadata": {
        "id": "iEeBWU3gYkNu",
        "colab_type": "text"
      },
      "source": [
        "Suppose  V  is kept fixed. Run one step of the algorithm to find the new estimate  U(1) .\n",
        "\n",
        "Enter the  U(1)  as a list of numbers,  [U(1)1,U(1)2,U(1)3,U(1)4] :  \n"
      ]
    },
    {
      "cell_type": "code",
      "metadata": {
        "id": "9GmRujdePoOZ",
        "colab_type": "code",
        "outputId": "18f2d571-ab80-4658-d6de-bd29aff2468f",
        "colab": {
          "base_uri": "https://localhost:8080/",
          "height": 272
        }
      },
      "source": [
        "U = sym.Matrix(sym.symarray('U', (1, 4)))\n",
        "V = sym.Matrix(sym.symarray('V', (1, 3)))\n",
        "Y = sym.Matrix(sym.symarray('Y', (4, 3)))\n",
        "Known = sym.Matrix([[1, np.nan, 1],\n",
        "                    [np.nan, 1, np.nan],\n",
        "                    [1, np.nan, np.nan],\n",
        "                    [np.nan, 1, 1]])\n",
        "Y = matrix_multiply_elementwise(Y,Known)\n",
        "\n",
        "X = U.T * V\n",
        "Z = Y - X\n",
        "Z = sym.simplify(1/2 * matrix_multiply_elementwise(Z,Z)) # squared error component matrix\n",
        "sym.pprint(Z)\n",
        "\n",
        "RegU = 1/2 * sym.Symbol(\"lamda\") * matrix_multiply_elementwise(U, U) # regularization of U\n",
        "sym.pprint(RegU)\n",
        "\n",
        "RegV = 1/2 * sym.Symbol(\"lamda\") * matrix_multiply_elementwise(V, V) # regularization of V\n",
        "sym.pprint(RegV)"
      ],
      "execution_count": 0,
      "outputs": [
        {
          "output_type": "stream",
          "text": [
            "⎡                      2                                                 2⎤\n",
            "⎢0.5⋅(U₀ ₀⋅V₀ ₀ - Y₀ ₀)             nan            0.5⋅(U₀ ₀⋅V₀ ₂ - Y₀ ₂) ⎥\n",
            "⎢                                                                         ⎥\n",
            "⎢                                               2                         ⎥\n",
            "⎢          nan            0.5⋅(U₀ ₁⋅V₀ ₁ - Y₁ ₁)             nan          ⎥\n",
            "⎢                                                                         ⎥\n",
            "⎢                      2                                                  ⎥\n",
            "⎢0.5⋅(U₀ ₂⋅V₀ ₀ - Y₂ ₀)             nan                      nan          ⎥\n",
            "⎢                                                                         ⎥\n",
            "⎢                                               2                        2⎥\n",
            "⎣          nan            0.5⋅(U₀ ₃⋅V₀ ₁ - Y₃ ₁)   0.5⋅(U₀ ₃⋅V₀ ₂ - Y₃ ₂) ⎦\n",
            "⎡        2            2            2            2  ⎤\n",
            "⎣0.5⋅U₀ ₀ ⋅λ  0.5⋅U₀ ₁ ⋅λ  0.5⋅U₀ ₂ ⋅λ  0.5⋅U₀ ₃ ⋅λ⎦\n",
            "⎡        2            2            2  ⎤\n",
            "⎣0.5⋅V₀ ₀ ⋅λ  0.5⋅V₀ ₁ ⋅λ  0.5⋅V₀ ₂ ⋅λ⎦\n"
          ],
          "name": "stdout"
        }
      ]
    },
    {
      "cell_type": "code",
      "metadata": {
        "id": "ZRcJdSdZqg_E",
        "colab_type": "code",
        "outputId": "4914c30b-4965-4e0f-9397-9be5fe5461a4",
        "colab": {
          "base_uri": "https://localhost:8080/",
          "height": 493
        }
      },
      "source": [
        "subs = {\"V_0_0\": v[0], \"V_0_1\": v[1], \"V_0_2\": v[2],\n",
        "        \"Y_0_0\": y[0, 0], \"Y_0_2\": y[0, 2],\n",
        "        \"Y_1_1\": y[1, 1],\n",
        "        \"Y_2_0\": y[2, 0],\n",
        "        \"Y_3_1\": y[3, 1], \"Y_3_2\": y[3, 2],\n",
        "        \"lamda\": la}\n",
        "# U(1)\n",
        "i = sym.Symbol(\"i\")\n",
        "j = sym.Symbol(\"j\")\n",
        "for k in range(4):\n",
        "  difZ = Z.diff(U[0, k])\n",
        "  err_sq = sym.Sum(difZ[i, j], (i, 0, 3), (j, 0, 2)).doit()\n",
        "  sym.pprint(err_sq)\n",
        "\n",
        "  difRegU = RegU.diff(U[0, k])\n",
        "  reg = sym.Sum(difRegU[i, j], (i, 0, 0), (j, 0, 3)).doit()\n",
        "  sym.pprint(reg)\n",
        "\n",
        "  sym.pprint(sym.solve(err_sq+reg, U[0,k]))\n",
        "  print(sym.solve(err_sq+reg, U[0,k])[0].subs(subs).evalf())"
      ],
      "execution_count": 0,
      "outputs": [
        {
          "output_type": "stream",
          "text": [
            "1.0⋅V₀ ₀⋅(U₀ ₀⋅V₀ ₀ - Y₀ ₀) + 1.0⋅V₀ ₂⋅(U₀ ₀⋅V₀ ₂ - Y₀ ₂)\n",
            "1.0⋅U₀ ₀⋅λ\n",
            "⎡V₀ ₀⋅Y₀ ₀ + V₀ ₂⋅Y₀ ₂⎤\n",
            "⎢─────────────────────⎥\n",
            "⎢      2       2      ⎥\n",
            "⎣  V₀ ₀  + V₀ ₂  + λ  ⎦\n",
            "1.50000000000000\n",
            "1.0⋅V₀ ₁⋅(U₀ ₁⋅V₀ ₁ - Y₁ ₁)\n",
            "1.0⋅U₀ ₁⋅λ\n",
            "⎡V₀ ₁⋅Y₁ ₁⎤\n",
            "⎢─────────⎥\n",
            "⎢    2    ⎥\n",
            "⎣V₀ ₁  + λ⎦\n",
            "0.800000000000000\n",
            "1.0⋅V₀ ₀⋅(U₀ ₂⋅V₀ ₀ - Y₂ ₀)\n",
            "1.0⋅U₀ ₂⋅λ\n",
            "⎡V₀ ₀⋅Y₂ ₀⎤\n",
            "⎢─────────⎥\n",
            "⎢    2    ⎥\n",
            "⎣V₀ ₀  + λ⎦\n",
            "0.941176470588235\n",
            "1.0⋅V₀ ₁⋅(U₀ ₃⋅V₀ ₁ - Y₃ ₁) + 1.0⋅V₀ ₂⋅(U₀ ₃⋅V₀ ₂ - Y₃ ₂)\n",
            "1.0⋅U₀ ₃⋅λ\n",
            "⎡V₀ ₁⋅Y₃ ₁ + V₀ ₂⋅Y₃ ₂⎤\n",
            "⎢─────────────────────⎥\n",
            "⎢      2       2      ⎥\n",
            "⎣  V₀ ₁  + V₀ ₂  + λ  ⎦\n",
            "2.00000000000000\n"
          ],
          "name": "stdout"
        }
      ]
    },
    {
      "cell_type": "markdown",
      "metadata": {
        "id": "xwX7JFvKD9UR",
        "colab_type": "text"
      },
      "source": [
        "## Feature Vectors Transformation\n",
        "Consider a sequence of  n -dimensional data points,  x(1),x(2),... , and a sequence of  m -dimensional feature vectors,  z(1),z(2),... , extracted from the  x 's by a linear transformation,  z(i)=Ax(i) . If  m  is much smaller than  n , you might expect that it would be easier to learn in the lower dimensional feature space than in the original data space.  "
      ]
    },
    {
      "cell_type": "markdown",
      "metadata": {
        "id": "UovBNkCTMfpN",
        "colab_type": "text"
      },
      "source": [
        "Suppose  n=6 ,  m=2 ,  z1  is the average of the elements of  x , and  z2  is the average of the first three elements of  x  minus the average of fourth through sixth elements of  x . Determine  A .\n",
        "\n",
        "Note: Enter  A  in a list format:  [[A11,...,A16],[A21,...,A26]]  \n"
      ]
    },
    {
      "cell_type": "code",
      "metadata": {
        "id": "q-_obWpEECwA",
        "colab_type": "code",
        "outputId": "f5942df1-a23a-40e6-ff45-483fb68ecd85",
        "colab": {
          "base_uri": "https://localhost:8080/",
          "height": 459
        }
      },
      "source": [
        "X = sym.Matrix(sym.symarray('X', (1, 6)))\n",
        "Z = sym.Matrix(sym.symarray('Z', (1, 2)))\n",
        "A = sym.Matrix(sym.symarray('A', (2, 6)))\n",
        "Z[0, 0] = sym.Rational(1, 6) * sym.Sum(X[0,j], (j, 0, 5)).doit()\n",
        "Z[0, 1] = sym.Rational(1, 3) * sym.Sum(X[0,j], (j, 0, 2)).doit() - sym.Rational(1, 3) * sym.Sum(X[0,j], (j, 3, 5)).doit()\n",
        "sym.pprint(X)\n",
        "sym.pprint(Z)\n",
        "sym.pprint(A)\n",
        "print(\"Match A*X.T and Z.T\")\n",
        "sym.pprint(A*X.T)\n",
        "sym.pprint(Z.T)\n",
        "\n",
        "print(\"A\")\n",
        "sym.Matrix([[1/6, 1/6, 1/6, 1/6, 1/6, 1/6],\n",
        "            [1/3, 1/3, 1/3, -1/3, -1/3, -1/3]])"
      ],
      "execution_count": 0,
      "outputs": [
        {
          "output_type": "stream",
          "text": [
            "[X₀ ₀  X₀ ₁  X₀ ₂  X₀ ₃  X₀ ₄  X₀ ₅]\n",
            "⎡X₀ ₀   X₀ ₁   X₀ ₂   X₀ ₃   X₀ ₄   X₀ ₅  X₀ ₀   X₀ ₁   X₀ ₂   X₀ ₃   X₀ ₄   X\n",
            "⎢──── + ──── + ──── + ──── + ──── + ────  ──── + ──── + ──── - ──── - ──── - ─\n",
            "⎣ 6      6      6      6      6      6     3      3      3      3      3      \n",
            "\n",
            "₀ ₅⎤\n",
            "───⎥\n",
            "3  ⎦\n",
            "⎡A₀ ₀  A₀ ₁  A₀ ₂  A₀ ₃  A₀ ₄  A₀ ₅⎤\n",
            "⎢                                  ⎥\n",
            "⎣A₁ ₀  A₁ ₁  A₁ ₂  A₁ ₃  A₁ ₄  A₁ ₅⎦\n",
            "Match A*X.T and Z.T\n",
            "⎡A₀ ₀⋅X₀ ₀ + A₀ ₁⋅X₀ ₁ + A₀ ₂⋅X₀ ₂ + A₀ ₃⋅X₀ ₃ + A₀ ₄⋅X₀ ₄ + A₀ ₅⋅X₀ ₅⎤\n",
            "⎢                                                                     ⎥\n",
            "⎣A₁ ₀⋅X₀ ₀ + A₁ ₁⋅X₀ ₁ + A₁ ₂⋅X₀ ₂ + A₁ ₃⋅X₀ ₃ + A₁ ₄⋅X₀ ₄ + A₁ ₅⋅X₀ ₅⎦\n",
            "⎡X₀ ₀   X₀ ₁   X₀ ₂   X₀ ₃   X₀ ₄   X₀ ₅⎤\n",
            "⎢──── + ──── + ──── + ──── + ──── + ────⎥\n",
            "⎢ 6      6      6      6      6      6  ⎥\n",
            "⎢                                       ⎥\n",
            "⎢X₀ ₀   X₀ ₁   X₀ ₂   X₀ ₃   X₀ ₄   X₀ ₅⎥\n",
            "⎢──── + ──── + ──── - ──── - ──── - ────⎥\n",
            "⎣ 3      3      3      3      3      3  ⎦\n",
            "A\n"
          ],
          "name": "stdout"
        },
        {
          "output_type": "execute_result",
          "data": {
            "text/plain": [
              "Matrix([\n",
              "[0.166666666666667, 0.166666666666667, 0.166666666666667,  0.166666666666667,  0.166666666666667,  0.166666666666667],\n",
              "[0.333333333333333, 0.333333333333333, 0.333333333333333, -0.333333333333333, -0.333333333333333, -0.333333333333333]])"
            ]
          },
          "metadata": {
            "tags": []
          },
          "execution_count": 288
        }
      ]
    }
  ]
}