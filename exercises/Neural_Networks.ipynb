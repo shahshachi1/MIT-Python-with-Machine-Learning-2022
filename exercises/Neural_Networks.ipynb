{
  "nbformat": 4,
  "nbformat_minor": 0,
  "metadata": {
    "colab": {
      "name": "Neural_Networks.ipynb",
      "version": "0.3.2",
      "provenance": [],
      "collapsed_sections": [],
      "include_colab_link": true
    },
    "kernelspec": {
      "name": "python3",
      "display_name": "Python 3"
    },
    "accelerator": "GPU"
  },
  "cells": [
    {
      "cell_type": "markdown",
      "metadata": {
        "id": "view-in-github",
        "colab_type": "text"
      },
      "source": [
        "<a href=\"https://colab.research.google.com/github/Data-Science-and-Data-Analytics-Courses/MITx---Machine-Learning-with-Python-From-Linear-Models-to-Deep-Learning-Jun-11-2019/blob/master/exercises/Neural_Networks.ipynb\" target=\"_parent\"><img src=\"https://colab.research.google.com/assets/colab-badge.svg\" alt=\"Open In Colab\"/></a>"
      ]
    },
    {
      "cell_type": "markdown",
      "metadata": {
        "id": "-jKf749g6256",
        "colab_type": "text"
      },
      "source": [
        "# Neural Networks \n",
        "\n",
        "---\n",
        "\n"
      ]
    },
    {
      "cell_type": "markdown",
      "metadata": {
        "id": "fDXChezQ-Rf2",
        "colab_type": "text"
      },
      "source": [
        "## Setup"
      ]
    },
    {
      "cell_type": "code",
      "metadata": {
        "colab_type": "code",
        "id": "jRKJaR9MaOqt",
        "colab": {}
      },
      "source": [
        "import sys\n",
        "from pathlib import Path\n",
        "from google.colab import drive\n",
        "\n",
        "# Notebook Library\n",
        "url = \"https://github.com/Data-Science-and-Data-Analytics-Courses/Notebook-Library\"\n",
        "repo = Path(\"/nblib\")\n",
        "!git clone \"{url}\" \"{repo}\"\n",
        "if repo.parent.as_posix() not in sys.path:\n",
        "  sys.path.append(repo.parent.as_posix())\n",
        "%run \"{repo}/.Importable.ipynb\"\n",
        "\n",
        "from nblib.imports.Basic import *\n",
        "from nblib import Git\n",
        "\n",
        "# Remote\n",
        "URL = \"https://github.com/Data-Science-and-Data-Analytics-Courses/MITx---Machine-Learning-with-Python-From-Linear-Models-to-Deep-Learning-Jun-11-2019\"\n",
        "REPO = Git.clone(URL, dest=\"/content\")\n",
        "if REPO.as_posix() not in sys.path:\n",
        "  sys.path.append(REPO.as_posix())\n",
        "\n",
        "# Working directory\n",
        "os.chdir(REPO)\n",
        "\n",
        "from nblib.imports.DS import *\n",
        "from setup.Setup import *\n",
        "\n",
        "clear_output()"
      ],
      "execution_count": 0,
      "outputs": []
    },
    {
      "cell_type": "markdown",
      "metadata": {
        "id": "RgHO66o1kf8N",
        "colab_type": "text"
      },
      "source": [
        "## Hidden Layer Models\n",
        "For the following set of problems, let's consider a simple 2-dimensional classification task. The training set is made up of  4  points listed below:  \n",
        "\n",
        " \t x(1)=(−1,−1) \t , \t y(1)=1 \t \t \n",
        " \t x(2)=(1,−1) \t , \t y(2)=−1 \t \t \n",
        " \t x(3)=(−1,1) \t , \t y(3)=−1 \t \t \n",
        " \t x(4)=(1,1) \t , \t y(4)=1 \t \t \n",
        "The dataset is illustrated below (blue - positive, red - negative)  \n",
        "For simplicity, assume that we are only interested in binary classification problems for now. That is,  y(i)  can be either  1  or  −1 .  \n"
      ]
    },
    {
      "cell_type": "markdown",
      "metadata": {
        "id": "NswjOSmHlVkS",
        "colab_type": "text"
      },
      "source": [
        "### Linear Separability After First Layer\n",
        "For this problem, let us focus on a network with one hidden layer and two units in that layer:  \n",
        "Let  f(i)1,f(i)2  denote the output of the two units in the hidden layer corresponding to the input  x(i)  respectively, i.e.\n",
        "\n",
        " \t f(i)1 \t = \t f(w01+(w11x(i)1+w21x(i)2)) \t \t \n",
        " \t f(i)2 \t = \t f(w02+(w12x(i)1+w22x(i)2)) \t \t \n",
        "Consider the set  D′={([f(i)1,f(i)2],y(i)),i=1,2,3,4} .\n",
        "\n",
        "Assume that f is the linear activation function given by  f(z)=2z−3 .\n",
        "\n",
        "For which of the following values of weights would the set  D′  be linearly separable? (Select all that apply.)  \n",
        " w11=w21=0,w12=w22=0,w01=w02=0   \n",
        " w11=w21=2,w12=w22=−2,w01=w02=1   \n",
        " w11=w21=−2,w12=w22=2,w01=w02=1  \n",
        " "
      ]
    },
    {
      "cell_type": "code",
      "metadata": {
        "id": "LbVxQdrZkq2W",
        "colab_type": "code",
        "colab": {
          "base_uri": "https://localhost:8080/",
          "height": 221
        },
        "outputId": "976449c0-5f80-419c-ef83-82f69b05d1a5"
      },
      "source": [
        "x = np.array([[-1, -1],\n",
        "              [1, -1],\n",
        "              [-1, 1],\n",
        "              [1, 1]])\n",
        "y = np.array([1, -1, -1, 1])\n",
        "\n",
        "w = np.array([[0, 0], \n",
        "              [0, 0]])\n",
        "w0 = np.array([0, 0])\n",
        "f = 2*(x.dot(w) + w0) - 3\n",
        "print(f)\n",
        "\n",
        "w = np.array([[2, -2], \n",
        "              [2, -2]])\n",
        "w0 = np.array([1, 1])\n",
        "f = 2*(x.dot(w) + w0) - 3\n",
        "print(f)\n",
        "\n",
        "w = np.array([[-2, 2], \n",
        "              [-2, 2]])\n",
        "w0 = np.array([1, 1])\n",
        "f = 2*(x.dot(w) + w0) - 3\n",
        "print(f)"
      ],
      "execution_count": 4,
      "outputs": [
        {
          "output_type": "stream",
          "text": [
            "[[-3 -3]\n",
            " [-3 -3]\n",
            " [-3 -3]\n",
            " [-3 -3]]\n",
            "[[-9  7]\n",
            " [-1 -1]\n",
            " [-1 -1]\n",
            " [ 7 -9]]\n",
            "[[ 7 -9]\n",
            " [-1 -1]\n",
            " [-1 -1]\n",
            " [-9  7]]\n"
          ],
          "name": "stdout"
        }
      ]
    },
    {
      "cell_type": "markdown",
      "metadata": {
        "id": "GDSGKcMYtDRO",
        "colab_type": "text"
      },
      "source": [
        "### Non-linear Activation Functions\n",
        "Again, let's focus on a network with one hidden layer with two units and use the same training set as above. The weights of the network are given as follows:\n",
        "\n",
        " \t w11=1,w21=−1,w01=1 \t \t \n",
        " \t w12=−1,w22=1,w02=1 \t \t \n",
        "Let  f1,f2  be the outputs of the first and second unit respectively.\n",
        "\n",
        "Consider the set  D′={([f(i)1,f(i)2],y(i)),i=1,2,3,4}  \n",
        "For which of the following functions  f , would the set  D′  be linearly separable? (Select one or more that apply.)\n",
        "\n",
        "\n",
        " f(z)=5z−2  \n",
        " f(z)=ReLU(z)  \n",
        " f(z)=tanh(z)  \n",
        " f(z)=z  \n",
        " "
      ]
    },
    {
      "cell_type": "code",
      "metadata": {
        "colab_type": "code",
        "outputId": "8c298691-24d4-446d-8c59-eaeec25d516d",
        "id": "RC6Q3qMitgEh",
        "colab": {
          "base_uri": "https://localhost:8080/",
          "height": 289
        }
      },
      "source": [
        "x = np.array([[-1, -1],\n",
        "              [1, -1],\n",
        "              [-1, 1],\n",
        "              [1, 1]])\n",
        "y = np.array([1, -1, -1, 1])\n",
        "\n",
        "w = np.array([[1, -1], \n",
        "              [-1, 1]])\n",
        "w0 = np.array([1, 1])\n",
        "\n",
        "# 5z−2\n",
        "f = 5*(x.dot(w) + w0) - 2\n",
        "print(f)\n",
        "\n",
        "# ReLU\n",
        "f = np.maximum([0], (x.dot(w) + w0))\n",
        "print(f)\n",
        "\n",
        "# tanh\n",
        "f = np.tanh(x.dot(w) + w0)\n",
        "print(f)\n",
        "\n",
        "# z\n",
        "f = x.dot(w) + w0\n",
        "print(f)"
      ],
      "execution_count": 13,
      "outputs": [
        {
          "output_type": "stream",
          "text": [
            "[[ 3  3]\n",
            " [13 -7]\n",
            " [-7 13]\n",
            " [ 3  3]]\n",
            "[[1 1]\n",
            " [3 0]\n",
            " [0 3]\n",
            " [1 1]]\n",
            "[[ 0.76159416  0.76159416]\n",
            " [ 0.99505475 -0.76159416]\n",
            " [-0.76159416  0.99505475]\n",
            " [ 0.76159416  0.76159416]]\n",
            "[[ 1  1]\n",
            " [ 3 -1]\n",
            " [-1  3]\n",
            " [ 1  1]]\n"
          ],
          "name": "stdout"
        }
      ]
    },
    {
      "cell_type": "code",
      "metadata": {
        "id": "SaldWuEytRQY",
        "colab_type": "code",
        "colab": {}
      },
      "source": [
        ""
      ],
      "execution_count": 0,
      "outputs": []
    }
  ]
}